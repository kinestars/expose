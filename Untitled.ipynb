{
 "cells": [
  {
   "cell_type": "code",
   "execution_count": 1,
   "metadata": {},
   "outputs": [],
   "source": [
    "import numpy"
   ]
  },
  {
   "cell_type": "code",
   "execution_count": 3,
   "metadata": {},
   "outputs": [],
   "source": [
    "fat_man_front_params = numpy.load(\"output/fat_man.png/fat_man.png_params.npz\")"
   ]
  },
  {
   "cell_type": "code",
   "execution_count": 5,
   "metadata": {},
   "outputs": [],
   "source": [
    "fat_man_left_params = numpy.load(\"output/fat-man-left.jpg/fat-man-left.jpg_params.npz\")"
   ]
  },
  {
   "cell_type": "code",
   "execution_count": 11,
   "metadata": {},
   "outputs": [
    {
     "data": {
      "text/plain": [
       "['fname',\n",
       " 'global_orient',\n",
       " 'body_pose',\n",
       " 'left_hand_pose',\n",
       " 'right_hand_pose',\n",
       " 'jaw_pose',\n",
       " 'betas',\n",
       " 'expression',\n",
       " 'vertices',\n",
       " 'joints',\n",
       " 'full_pose',\n",
       " 'transl',\n",
       " 'proj_joints',\n",
       " 'shift_x',\n",
       " 'shift_y',\n",
       " 'focal_length_in_mm',\n",
       " 'focal_length_in_px',\n",
       " 'center',\n",
       " 'sensor_width']"
      ]
     },
     "execution_count": 11,
     "metadata": {},
     "output_type": "execute_result"
    }
   ],
   "source": [
    "fat_man_front_params.files"
   ]
  },
  {
   "cell_type": "code",
   "execution_count": 7,
   "metadata": {},
   "outputs": [
    {
     "data": {
      "text/plain": [
       "[-5.0972044467926025,\n",
       " 1.2909001111984253,\n",
       " 36.77804946899414,\n",
       " -46.524925231933594,\n",
       " -21.292414665222168,\n",
       " -48.214683532714844,\n",
       " 2.3334527015686035,\n",
       " -4.4191765785217285,\n",
       " 19.668281078338623,\n",
       " -5.52007794380188]"
      ]
     },
     "execution_count": 7,
     "metadata": {},
     "output_type": "execute_result"
    }
   ],
   "source": [
    "[i * 20 for i in fat_man_front_params['betas']]"
   ]
  },
  {
   "cell_type": "code",
   "execution_count": 6,
   "metadata": {},
   "outputs": [
    {
     "data": {
      "text/plain": [
       "[-15.67840576171875,\n",
       " -19.066543579101562,\n",
       " 41.96406364440918,\n",
       " -39.91689205169678,\n",
       " -26.05551242828369,\n",
       " -47.9819917678833,\n",
       " 8.840864896774292,\n",
       " -2.5611066818237305,\n",
       " 24.387693405151367,\n",
       " -11.109942197799683]"
      ]
     },
     "execution_count": 6,
     "metadata": {},
     "output_type": "execute_result"
    }
   ],
   "source": [
    "[i * 20 for i in fat_man_left_params['betas']]     "
   ]
  },
  {
   "cell_type": "code",
   "execution_count": null,
   "metadata": {},
   "outputs": [],
   "source": []
  }
 ],
 "metadata": {
  "kernelspec": {
   "display_name": "Python 3",
   "language": "python",
   "name": "python3"
  },
  "language_info": {
   "codemirror_mode": {
    "name": "ipython",
    "version": 3
   },
   "file_extension": ".py",
   "mimetype": "text/x-python",
   "name": "python",
   "nbconvert_exporter": "python",
   "pygments_lexer": "ipython3",
   "version": "3.8.3"
  }
 },
 "nbformat": 4,
 "nbformat_minor": 4
}
